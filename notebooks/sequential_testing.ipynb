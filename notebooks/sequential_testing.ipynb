{
 "cells": [
  {
   "cell_type": "markdown",
   "metadata": {
    "id": "iftqV_euXReL"
   },
   "source": [
    "### Write a function to feach data."
   ]
  },
  {
   "cell_type": "code",
   "execution_count": 4,
   "metadata": {
    "id": "A-uNOBuFbRdv"
   },
   "outputs": [],
   "source": [
    "import os\n",
    "import sys\n",
    "import pandas as pd\n",
    "import numpy as np\n",
    "import warnings \n",
    "import scipy.stats as scs\n",
    "import matplotlib.pyplot as plt"
   ]
  },
  {
   "cell_type": "code",
   "execution_count": 5,
   "metadata": {
    "colab": {
     "base_uri": "https://localhost:8080/",
     "height": 214
    },
    "id": "z3saJEgAbThr",
    "outputId": "8062db23-414d-4430-853c-607e23ef1248"
   },
   "outputs": [],
   "source": [
    "# Suppressing warning messages\n",
    "\n",
    "warnings.filterwarnings('ignore')"
   ]
  },
  {
   "cell_type": "code",
   "execution_count": 7,
   "metadata": {
    "id": "HdBaAyNybYwW"
   },
   "outputs": [
    {
     "ename": "NameError",
     "evalue": "name 'c_sprt' is not defined",
     "output_type": "error",
     "traceback": [
      "\u001b[1;31m---------------------------------------------------------------------------\u001b[0m",
      "\u001b[1;31mNameError\u001b[0m                                 Traceback (most recent call last)",
      "\u001b[1;32m~\\AppData\\Local\\Temp/ipykernel_17476/3093326915.py\u001b[0m in \u001b[0;36m<module>\u001b[1;34m\u001b[0m\n\u001b[1;32m----> 1\u001b[1;33m \u001b[0mprint\u001b[0m\u001b[1;33m(\u001b[0m\u001b[0mc_sprt\u001b[0m\u001b[1;33m.\u001b[0m\u001b[0mget_output\u001b[0m\u001b[1;33m(\u001b[0m\u001b[0mres\u001b[0m\u001b[1;33m)\u001b[0m\u001b[1;33m)\u001b[0m\u001b[1;33m\u001b[0m\u001b[1;33m\u001b[0m\u001b[0m\n\u001b[0m",
      "\u001b[1;31mNameError\u001b[0m: name 'c_sprt' is not defined"
     ]
    }
   ],
   "source": [
    "print(c_sprt.get_output(res))"
   ]
  },
  {
   "cell_type": "code",
   "execution_count": null,
   "metadata": {},
   "outputs": [],
   "source": [
    "# setting path to folders\n",
    "\n",
    "parent_dir = os.path.abspath(os.path.join(os.getcwd(), os.pardir))\n",
    "scripts_dir = parent_dir+\"/scripts\"\n",
    "data_dir = parent_dir+\"/data\"\n",
    "\n",
    "sys.path.insert(1, scripts_dir)"
   ]
  },
  {
   "cell_type": "code",
   "execution_count": null,
   "metadata": {},
   "outputs": [],
   "source": [
    "# loading script\n",
    "\n",
    "from data_summarizing_functions import DataSummarizer\n",
    "from processing_functions import ConditionalSPRT\n",
    "from dashboard_viz import VizManager\n",
    "from processing_functions import DataProcessor\n",
    "\n",
    "sumar = DataSummarizer()\n",
    "viz = VizManager()\n",
    "DP = DataProcessor()"
   ]
  },
  {
   "cell_type": "code",
   "execution_count": null,
   "metadata": {
    "colab": {
     "base_uri": "https://localhost:8080/",
     "height": 204
    },
    "id": "-FE3ou80b97z",
    "outputId": "ad3022ad-99b7-487d-98f4-61649d51ebbd"
   },
   "outputs": [],
   "source": [
    "# loading data\n",
    "\n",
    "clean_df = pd.read_csv(data_dir+\"/SmartAd_clean_data.csv\")\n",
    "clean_df.head()"
   ]
  },
  {
   "cell_type": "code",
   "execution_count": null,
   "metadata": {
    "id": "q4In81HzZyiQ"
   },
   "outputs": [],
   "source": [
    "\n",
    "alpha = 0.5\n",
    "beta = 0.10\n",
    "exposed,  control = DP.transform_data(clean_df)\n",
    "odd_ratio = 1.01\n",
    "\n",
    "c_sprt = ConditionalSPRT()\n",
    "res = c_sprt.conditionalSPRT(exposed, control, odd_ratio, alpha, beta)"
   ]
  },
  {
   "cell_type": "code",
   "execution_count": null,
   "metadata": {},
   "outputs": [],
   "source": [
    "print(c_sprt.get_output(res))"
   ]
  },
  {
   "cell_type": "code",
   "execution_count": null,
   "metadata": {
    "id": "Dj_QuUA_Z-gV"
   },
   "outputs": [],
   "source": [
    "c_sprt.plot_output(res)\n"
   ]
  }
 ],
 "metadata": {
  "colab": {
   "collapsed_sections": [],
   "name": "sequential_testing.ipynb",
   "provenance": []
  },
  "interpreter": {
   "hash": "2b997b5b8794c030e25a28be498e8226ee8897df85ede9190db777bdc9cc75be"
  },
  "kernelspec": {
   "display_name": "Python 3 (ipykernel)",
   "language": "python",
   "name": "python3"
  },
  "language_info": {
   "codemirror_mode": {
    "name": "ipython",
    "version": 3
   },
   "file_extension": ".py",
   "mimetype": "text/x-python",
   "name": "python",
   "nbconvert_exporter": "python",
   "pygments_lexer": "ipython3",
   "version": "3.9.7"
  }
 },
 "nbformat": 4,
 "nbformat_minor": 1
}
