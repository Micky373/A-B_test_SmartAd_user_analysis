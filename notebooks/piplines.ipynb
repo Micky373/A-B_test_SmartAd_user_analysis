{
 "cells": [
  {
   "cell_type": "code",
   "execution_count": 153,
   "metadata": {},
   "outputs": [],
   "source": [
    "import os\n",
    "import sys\n",
    "import pandas as pd\n",
    "import numpy as np\n",
    "from sklearn.model_selection import train_test_split\n",
    "from sklearn.preprocessing import MinMaxScaler\n",
    "from sklearn.decomposition import PCA\n",
    "from sklearn.pipeline import Pipeline\n",
    "from sklearn.linear_model import LogisticRegression\n",
    "from sklearn.preprocessing import StandardScaler\n",
    "from sklearn.cluster import KMeans\n"
   ]
  },
  {
   "cell_type": "code",
   "execution_count": 154,
   "metadata": {},
   "outputs": [],
   "source": [
    "# setting path to folders\n",
    "\n",
    "parent_dir = os.path.abspath(os.path.join(os.getcwd(), os.pardir))\n",
    "scripts_dir = parent_dir+\"/scripts\"\n",
    "data_dir = parent_dir+\"/data\"\n",
    "\n",
    "sys.path.insert(1, scripts_dir)"
   ]
  },
  {
   "cell_type": "code",
   "execution_count": 155,
   "metadata": {},
   "outputs": [],
   "source": [
    "\n",
    "from data_summarizing_functions import DataSummarizer\n",
    "from dashboard_viz import VizManager\n",
    "\n",
    "sumar = DataSummarizer()\n",
    "viz = VizManager()"
   ]
  },
  {
   "cell_type": "code",
   "execution_count": 156,
   "metadata": {},
   "outputs": [],
   "source": [
    "#function to  clean and save data\n",
    "def clean__and_save_data( df=\"/SmartAd_original_data.csv\",cdf=\"/SmartAd_ccclean_data.csv\"):\n",
    "    original_df = pd.read_csv(data_dir+df)\n",
    "    clean_df = original_df.loc[~((original_df[\"yes\"]== 0) & (original_df[\"no\"]==0))]\n",
    "    clean_df.to_csv(data_dir+cdf, index=False)\n",
    " \n",
    "    return clean_df\n",
    "    "
   ]
  },
  {
   "cell_type": "code",
   "execution_count": 157,
   "metadata": {},
   "outputs": [],
   "source": [
    "# exploring the identity of experiment groups.\n",
    "def aggregate_exprement_group():\n",
    "    # Displaying unique values for each categorical variables.\n",
    "    \n",
    "    cleaned_df = clean__and_save_data()\n",
    "    aggr_df = sumar.find_agg(cleaned_df, [\"experiment\"], [\"auction_id\"], [\"count\"], [\"count\"])\n",
    "    aggr_df[\"percentage\"] = (aggr_df[\"count\"]/cleaned_df.shape[0])*100\n",
    "    print(aggr_df)\n"
   ]
  },
  {
   "cell_type": "code",
   "execution_count": 158,
   "metadata": {},
   "outputs": [],
   "source": [
    "def pipeline(clean, aggregate):\n",
    "    clean()\n",
    "    aggregate()"
   ]
  },
  {
   "cell_type": "code",
   "execution_count": 159,
   "metadata": {},
   "outputs": [
    {
     "name": "stdout",
     "output_type": "stream",
     "text": [
      "  experiment  count  percentage\n",
      "0    control    586   47.144006\n",
      "1    exposed    657   52.855994\n"
     ]
    }
   ],
   "source": [
    "pipeline(clean__and_save_data, aggregate_exprement_group)"
   ]
  }
 ],
 "metadata": {
  "interpreter": {
   "hash": "ff9febebe25a2d7ce3624b0c94722103db22685420c5c5946ccbfd99f2f56a76"
  },
  "kernelspec": {
   "display_name": "Python 3.9.12 ('meron_working')",
   "language": "python",
   "name": "python3"
  },
  "language_info": {
   "codemirror_mode": {
    "name": "ipython",
    "version": 3
   },
   "file_extension": ".py",
   "mimetype": "text/x-python",
   "name": "python",
   "nbconvert_exporter": "python",
   "pygments_lexer": "ipython3",
   "version": "3.9.12"
  },
  "orig_nbformat": 4
 },
 "nbformat": 4,
 "nbformat_minor": 2
}
